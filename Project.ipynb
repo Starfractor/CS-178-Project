{
 "cells": [
  {
   "attachments": {},
   "cell_type": "markdown",
   "metadata": {},
   "source": [
    "CS 178 Project <br>\n",
    "Team 69 - \"Adulting\" <br>\n",
    "Members:<br>\n",
    "Dingyi Chang #89167697<br>\n",
    "Nicholas King #33099364<br>\n",
    "Jenny My Lee #<br>"
   ]
  },
  {
   "attachments": {},
   "cell_type": "markdown",
   "metadata": {},
   "source": [
    "We will first download the data (the Adult dataset from UCI ML Repo) as well as importing any necessary libraries."
   ]
  },
  {
   "cell_type": "code",
   "execution_count": 263,
   "metadata": {},
   "outputs": [],
   "source": [
    "import numpy as np\n",
    "import matplotlib.pyplot as plt\n",
    "import requests\n",
    "import pandas as pd\n",
    "from sklearn import preprocessing\n",
    "import sklearn.tree as tree\n",
    "from sklearn.metrics import zero_one_loss as J01\n",
    "\n",
    "le = preprocessing.LabelEncoder()\n",
    "\n",
    "#Read training data from adult.data and make Xtr and Ytr\n",
    "data = np.array(pd.read_csv('adult.data', header = None))\n",
    "for i, j in enumerate([1, 3, 5, 6, 7, 8, 9, 13, 14]):\n",
    "    le.fit(data[:, j])\n",
    "    data[:, j] = le.transform(data[:, j])\n",
    "Xtr = data[:, :14].astype('int')\n",
    "Ytr = data[:, 14].astype('int')\n",
    "\n",
    "\n",
    "#Read testing data from adult.test and make Xte and Yte\n",
    "data = np.array(pd.read_csv('adult.test', header = None, skiprows = 1))\n",
    "for i, j in enumerate([1, 3, 5, 6, 7, 8, 9, 13, 14]):\n",
    "    le.fit(data[:, j])\n",
    "    data[:, j] = le.transform(data[:, j])\n",
    "Xte = data[:, :14].astype('int')\n",
    "Yte = data[:, 14].astype('int')\n",
    "\n"
   ]
  },
  {
   "attachments": {},
   "cell_type": "markdown",
   "metadata": {},
   "source": [
    "Try out Decision Tree with data"
   ]
  },
  {
   "cell_type": "code",
   "execution_count": 264,
   "metadata": {},
   "outputs": [
    {
     "name": "stdout",
     "output_type": "stream",
     "text": [
      "Training error: 0.0\n",
      "Validation error: 0.1862\n"
     ]
    }
   ],
   "source": [
    "seed = 1234\n",
    "\n",
    "learner = tree.DecisionTreeClassifier(max_depth = 100, criterion ='entropy', random_state = seed)\n",
    "learner.fit(Xtr, Ytr)\n",
    "print(f'Training error: {np.round(J01(learner.predict(Xtr), Ytr), 4)}')\n",
    "print(f'Validation error: {np.round(J01(learner.predict(Xte), Yte), 4)}')\n"
   ]
  }
 ],
 "metadata": {
  "kernelspec": {
   "display_name": "cs178",
   "language": "python",
   "name": "python3"
  },
  "language_info": {
   "codemirror_mode": {
    "name": "ipython",
    "version": 3
   },
   "file_extension": ".py",
   "mimetype": "text/x-python",
   "name": "python",
   "nbconvert_exporter": "python",
   "pygments_lexer": "ipython3",
   "version": "3.10.8"
  },
  "orig_nbformat": 4
 },
 "nbformat": 4,
 "nbformat_minor": 2
}
