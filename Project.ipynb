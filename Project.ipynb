{
 "cells": [
  {
   "attachments": {},
   "cell_type": "markdown",
   "metadata": {},
   "source": [
    "CS 178 Project <br>\n",
    "Team 69 - \"Adulting\" <br>\n",
    "Members:<br>\n",
    "Dingyi Chang #89167697<br>\n",
    "Nicholas King #33099364<br>\n",
    "Jenny My Lee #<br>"
   ]
  },
  {
   "attachments": {},
   "cell_type": "markdown",
   "metadata": {},
   "source": [
    "We will first download the data (the Adult dataset from UCI ML Repo) as well as importing any necessary libraries."
   ]
  },
  {
   "cell_type": "code",
   "execution_count": 167,
   "metadata": {},
   "outputs": [],
   "source": [
    "import numpy as np\n",
    "import matplotlib.pyplot as plt\n",
    "import requests\n",
    "import pandas as pd\n",
    "\n",
    "#Read training data from adult.data and make Xtr and Ytr\n",
    "data = np.array(pd.read_csv('adult.data'))\n",
    "Xtr = data[:, :14]\n",
    "Ytr = data[:, 14]\n",
    "\n",
    "#Read testing data from adult.test and make Xte and Yte\n",
    "data = np.array(pd.read_csv('adult.test', skiprows = 1))\n",
    "Xte = data[:, :14]\n",
    "Yte = data[:, 14]\n",
    "\n",
    "\n",
    "\n"
   ]
  },
  {
   "cell_type": "markdown",
   "metadata": {},
   "source": []
  }
 ],
 "metadata": {
  "kernelspec": {
   "display_name": "cs178",
   "language": "python",
   "name": "python3"
  },
  "language_info": {
   "codemirror_mode": {
    "name": "ipython",
    "version": 3
   },
   "file_extension": ".py",
   "mimetype": "text/x-python",
   "name": "python",
   "nbconvert_exporter": "python",
   "pygments_lexer": "ipython3",
   "version": "3.10.8"
  },
  "orig_nbformat": 4
 },
 "nbformat": 4,
 "nbformat_minor": 2
}
